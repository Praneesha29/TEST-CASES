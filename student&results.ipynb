{
 "cells": [
  {
   "cell_type": "code",
   "execution_count": 17,
   "id": "c32b9730",
   "metadata": {},
   "outputs": [],
   "source": [
    "import pandas as pd\n"
   ]
  },
  {
   "cell_type": "code",
   "execution_count": 19,
   "id": "e7a9c2ba",
   "metadata": {},
   "outputs": [],
   "source": [
    "df2=pd.DataFrame({\"names\":['vineet','hisham','raj','ajeet','sujit','ramesh','priya','priyanka','suresh','ritesh','hitesh','jatin','chitesh','suman','raman','aman','ravi','shravi','chavvi','himanshu'],\"rno\":['1','2','3','4','5','6','7','8','9','10','11','12','13','14','15','16','17','18','19','20']})"
   ]
  },
  {
   "cell_type": "code",
   "execution_count": 20,
   "id": "04d17afd",
   "metadata": {},
   "outputs": [],
   "source": [
    "\n",
    "df3=pd.DataFrame({\"results\":['fail','fail','pass','pass','fail','pass','fail','pass','pass','pass','pass','fail','fail','fail','pass','fail','pass','fail','pass','pass'],\"rno\":['1','2','3','4','5','6','7','8','9','10','11','12','13','14','15','16','17','18','19','20']})"
   ]
  },
  {
   "cell_type": "code",
   "execution_count": 22,
   "id": "8de3971f",
   "metadata": {},
   "outputs": [
    {
     "name": "stdout",
     "output_type": "stream",
     "text": [
      "       names rno results\n",
      "0     vineet   1    fail\n",
      "1     hisham   2    fail\n",
      "2        raj   3    pass\n",
      "3      ajeet   4    pass\n",
      "4      sujit   5    fail\n",
      "5     ramesh   6    pass\n",
      "6      priya   7    fail\n",
      "7   priyanka   8    pass\n",
      "8     suresh   9    pass\n",
      "9     ritesh  10    pass\n",
      "10    hitesh  11    pass\n",
      "11     jatin  12    fail\n",
      "12   chitesh  13    fail\n",
      "13     suman  14    fail\n",
      "14     raman  15    pass\n",
      "15      aman  16    fail\n",
      "16      ravi  17    pass\n",
      "17    shravi  18    fail\n",
      "18    chavvi  19    pass\n",
      "19  himanshu  20    pass\n"
     ]
    }
   ],
   "source": [
    "merged_df=pd.merge(df2,df3,on=\"rno\")\n",
    "print(merged_df)"
   ]
  },
  {
   "cell_type": "code",
   "execution_count": 24,
   "id": "095b8f01",
   "metadata": {},
   "outputs": [
    {
     "name": "stdout",
     "output_type": "stream",
     "text": [
      "students have successfully clearedexam: ['raj', 'ajeet', 'ramesh', 'priyanka', 'suresh', 'ritesh', 'hitesh', 'raman', 'ravi', 'chavvi', 'himanshu']\n"
     ]
    }
   ],
   "source": [
    "#problem:1:students names who successfully cleared\n",
    "passed_students=merged_df[merged_df[\"results\"]=='pass'][\"names\"]\n",
    "print(\"students have successfully clearedexam:\",list(passed_students))"
   ]
  },
  {
   "cell_type": "code",
   "execution_count": 27,
   "id": "96841ace",
   "metadata": {},
   "outputs": [
    {
     "name": "stdout",
     "output_type": "stream",
     "text": [
      "No.of students passed:        names rno results\n",
      "2        raj   3    pass\n",
      "3      ajeet   4    pass\n",
      "5     ramesh   6    pass\n",
      "7   priyanka   8    pass\n",
      "8     suresh   9    pass\n",
      "9     ritesh  10    pass\n",
      "10    hitesh  11    pass\n",
      "14     raman  15    pass\n",
      "16      ravi  17    pass\n",
      "18    chavvi  19    pass\n",
      "19  himanshu  20    pass\n",
      "No.of sstudents failed:       names rno results\n",
      "0    vineet   1    fail\n",
      "1    hisham   2    fail\n",
      "4     sujit   5    fail\n",
      "6     priya   7    fail\n",
      "11    jatin  12    fail\n",
      "12  chitesh  13    fail\n",
      "13    suman  14    fail\n",
      "15     aman  16    fail\n",
      "17   shravi  18    fail\n"
     ]
    }
   ],
   "source": [
    "#problme 2:count no.of students(pass/fail)\n",
    "pass_count=merged_df[merged_df['results']=='pass']\n",
    "fail_count=merged_df[merged_df['results']=='fail']\n",
    "print(\"No.of students passed:\",pass_count)\n",
    "print(\"No.of sstudents failed:\",fail_count)"
   ]
  },
  {
   "cell_type": "code",
   "execution_count": 51,
   "id": "a5a5311b",
   "metadata": {},
   "outputs": [
    {
     "name": "stdout",
     "output_type": "stream",
     "text": [
      "3        ajeet\n",
      "15        aman\n",
      "18      chavvi\n",
      "12     chitesh\n",
      "19    himanshu\n",
      "1       hisham\n",
      "10      hitesh\n",
      "11       jatin\n",
      "6        priya\n",
      "7     priyanka\n",
      "2          raj\n",
      "14       raman\n",
      "5       ramesh\n",
      "16        ravi\n",
      "9       ritesh\n",
      "17      shravi\n",
      "4        sujit\n",
      "13       suman\n",
      "8       suresh\n",
      "0       vineet\n",
      "Name: names, dtype: object\n"
     ]
    }
   ],
   "source": [
    "#arrange names alphabetically\n",
    "sort_names=df2.sort_values(by=\"names\")[\"names\"]\n",
    "print(sort_names)"
   ]
  },
  {
   "cell_type": "code",
   "execution_count": null,
   "id": "1836412c",
   "metadata": {},
   "outputs": [],
   "source": []
  }
 ],
 "metadata": {
  "kernelspec": {
   "display_name": "Python 3 (ipykernel)",
   "language": "python",
   "name": "python3"
  },
  "language_info": {
   "codemirror_mode": {
    "name": "ipython",
    "version": 3
   },
   "file_extension": ".py",
   "mimetype": "text/x-python",
   "name": "python",
   "nbconvert_exporter": "python",
   "pygments_lexer": "ipython3",
   "version": "3.11.4"
  }
 },
 "nbformat": 4,
 "nbformat_minor": 5
}
